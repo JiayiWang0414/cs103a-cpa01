{
 "cells": [
  {
   "cell_type": "markdown",
   "metadata": {},
   "source": [
    "## The dataset I used is the global daily covid test starts from 2020 to Feb.2022.\n",
    "## It involves 8,4036 rows and the dataset is grouped by the country code,country name, and data\n",
    "## URL:https://ourworldindata.org/search?q=covid+\n",
    "## interesting question 1: how many countries are there in the table?\n",
    "## interesting question2: How many covid-19 test does the United States performs in total?\n",
    "\n",
    "\n",
    "\n",
    "\n"
   ]
  },
  {
   "cell_type": "code",
   "execution_count": null,
   "metadata": {},
   "outputs": [],
   "source": [
    "import csv\n",
    "import matplotlib.pyplot as plt\n",
    "import numpy as np\n",
    "import pandas as pd\n",
    "\n"
   ]
  },
  {
   "cell_type": "code",
   "execution_count": null,
   "metadata": {},
   "outputs": [],
   "source": [
    "df=pd.read_csv('covid_test.csv')\n",
    "df\n",
    "\n"
   ]
  },
  {
   "cell_type": "code",
   "execution_count": null,
   "metadata": {},
   "outputs": [],
   "source": [
    "#interesting question1:\n",
    "country=df['Entity'].unique()\n",
    "len(country)\n",
    "country\n",
    "\n",
    "## there are 147 countries in the table.\n"
   ]
  },
  {
   "cell_type": "code",
   "execution_count": null,
   "metadata": {},
   "outputs": [],
   "source": [
    "##interesting question2: How many covid-19 test does the United States performs in total?\n",
    "\n",
    "d1=df[df['Code']=='USA']\n",
    "dsum=d1['new_tests_7day_smoothed']\n",
    "sum=0\n",
    "for s in dsum:\n",
    "    sum=sum+s\n",
    "sum\n",
    "d1\n",
    "\n",
    "##there are 817663123 tests have been performed in USA.\n",
    "\n"
   ]
  },
  {
   "cell_type": "code",
   "execution_count": null,
   "metadata": {},
   "outputs": [],
   "source": [
    "##use pd.describe()\n",
    "\n",
    "print(df.describe())\n"
   ]
  },
  {
   "cell_type": "code",
   "execution_count": null,
   "metadata": {},
   "outputs": [],
   "source": [
    "##print the array of columns and the index array\n",
    "print(df.columns)\n",
    "print(df.index)\n",
    "print(list(df.columns))\n",
    "\n"
   ]
  },
  {
   "cell_type": "code",
   "execution_count": null,
   "metadata": {},
   "outputs": [],
   "source": [
    "##create some simple plot of part of the data\n",
    "##plot the number of cases performed in each country on 2020-03-08\n",
    "plt.figure(figsize=(15,10))\n",
    "for cty in country:\n",
    "   d3=df[df['Day']==\"2020-03-08\"]\n",
    "   plt.plot(d3['Code'],d3['new_tests_7day_smoothed'],label=cty)\n",
    "plt.legend()\n",
    "plt.grid()\n"
   ]
  },
  {
   "cell_type": "code",
   "execution_count": null,
   "metadata": {},
   "outputs": [],
   "source": [
    "## create a pivot table and plot some data from that pivot table\n",
    "\n",
    "dft=pd.pivot_table(df,values=\"new_tests_7day_smoothed\",index=\"Day\",columns=\"Entity\")\n",
    "print(dft)\n",
    "\n",
    "dft.plot(figsize=(15,10))\n",
    "plt.grid()\n",
    "plt.title(\"number of tests performed in each countries\")\n",
    "plt.xlabel(\"Day\")\n",
    "plt.ylabel(\"number of tests scaled by 100,000\")\n",
    "\n",
    "\n",
    "\n"
   ]
  },
  {
   "cell_type": "code",
   "execution_count": null,
   "metadata": {},
   "outputs": [],
   "source": [
    "##use the groupby feature\n",
    "z=df.groupby(\"Code\")\n",
    "z.groups\n",
    "\n"
   ]
  },
  {
   "cell_type": "code",
   "execution_count": null,
   "metadata": {},
   "outputs": [],
   "source": [
    "##:discussion cell\n",
    "# First from the plot and the pivot table we can see that these countries have different ability to perform covid test.\n",
    "# Developed countries like USA,UK,Japan, they usually perform more tests than developing countries.\n",
    "#Also, different countries have different global maxima in terms of the number of covid test performed.\n",
    "\n"
   ]
  }
 ],
 "metadata": {
  "kernelspec": {
   "display_name": "Python 3",
   "language": "python",
   "name": "python3"
  },
  "language_info": {
   "codemirror_mode": {
    "name": "ipython",
    "version": 3
   },
   "file_extension": ".py",
   "mimetype": "text/x-python",
   "name": "python",
   "nbconvert_exporter": "python",
   "pygments_lexer": "ipython3",
   "version": "3.8.3"
  }
 },
 "nbformat": 4,
 "nbformat_minor": 4
}
