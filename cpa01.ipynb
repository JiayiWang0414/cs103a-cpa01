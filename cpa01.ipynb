{
 "cells": [
  {
   "cell_type": "code",
   "execution_count": null,
   "metadata": {},
   "outputs": [],
   "source": [
    "## The dataset I used is the global daily covid test starts from 2020 to Feb.2022.\n",
    "## It involves 8,4036 rows and the dataset is grouped by the country code,country name, and data\n",
    "## URL:https://ourworldindata.org/search?q=covid+\n",
    "## interesting question 1: how many people performed covid test in 2020?\n",
    "## interesting question2: what are the top 3 countries that perform the most covid 19test in 2022?\n",
    "\n",
    "\n",
    "\n",
    "\n"
   ]
  },
  {
   "cell_type": "code",
   "execution_count": null,
   "metadata": {},
   "outputs": [],
   "source": []
  }
 ],
 "metadata": {
  "kernelspec": {
   "display_name": "Python 3",
   "language": "python",
   "name": "python3"
  },
  "language_info": {
   "codemirror_mode": {
    "name": "ipython",
    "version": 3
   },
   "file_extension": ".py",
   "mimetype": "text/x-python",
   "name": "python",
   "nbconvert_exporter": "python",
   "pygments_lexer": "ipython3",
   "version": "3.8.3"
  }
 },
 "nbformat": 4,
 "nbformat_minor": 4
}
